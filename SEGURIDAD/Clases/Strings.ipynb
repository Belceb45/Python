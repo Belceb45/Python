{
 "cells": [
  {
   "cell_type": "code",
   "execution_count": 75,
   "metadata": {},
   "outputs": [],
   "source": [
    "def opciones(option,opt1,opt2,opt3,opt4):\n",
    "    # print(opt1.islower())\n",
    "    # print(opt1.islower())\n",
    "    # print(option.islower())\n",
    "    if option.upper() == opt1.upper():\n",
    "        print(\"Elegiste \"+opt1)\n",
    "        a=float(input(\"Ingresa un numero\"))\n",
    "        b=float(input(\"Ingresa otro numero\"))\n",
    "        result=float(a+b)\n",
    "        #Ocupamos ese formato en el print para poder concatenar\n",
    "        #la string y el result\n",
    "        print(f\"El resultado es:{result}\")\n",
    "    elif option.upper() == opt2.upper():\n",
    "        print(\"Elegiste \"+opt2)\n",
    "        a=float(input(\"Ingresa un numero\"))\n",
    "        b=float(input(\"Ingresa otro numero\"))\n",
    "        result=float(a-b)\n",
    "        print(f\"El resultado es:{result}\")\n",
    "    elif option.upper() == opt3.upper():\n",
    "        print(\"Elegiste \"+opt3)\n",
    "        a=float(input(\"Ingresa un numero\"))\n",
    "        b=float(input(\"Ingresa otro numero\"))\n",
    "        if(b>0):\n",
    "\n",
    "            result=float(a/b)\n",
    "            print(f\"El resultado es:{result}\")\n",
    "\n",
    "        else:\n",
    "            print(\"No es valida la division entre 0\")\n",
    "            \n",
    "    elif option.upper() == opt4.upper():\n",
    "        print(\"Elegiste \"+opt4)\n",
    "        a=float(input(\"Ingresa un numero\"))\n",
    "        b=float(input(\"Ingresa otro numero\"))\n",
    "        result=float(a*b)\n",
    "        print(f\"El resultado es:{result}\")\n",
    "        \n"
   ]
  },
  {
   "cell_type": "code",
   "execution_count": 76,
   "metadata": {},
   "outputs": [],
   "source": [
    "option = str(input(\"ingresa tu operacion\"))\n",
    "opt1 = str(\"suma\")\n",
    "opt2 = str(\"resta\")\n",
    "opt3 = str(\"division\")\n",
    "opt4 = str(\"multiplicacion\")\n",
    "opciones(option,opt1,opt2,opt3,opt4)"
   ]
  }
 ],
 "metadata": {
  "interpreter": {
   "hash": "5a949091ca86e95f1c45e0daef77daaed2310b65151c6071f238362cd84729ee"
  },
  "kernelspec": {
   "display_name": "Python 3.10.2 64-bit",
   "language": "python",
   "name": "python3"
  },
  "language_info": {
   "codemirror_mode": {
    "name": "ipython",
    "version": 3
   },
   "file_extension": ".py",
   "mimetype": "text/x-python",
   "name": "python",
   "nbconvert_exporter": "python",
   "pygments_lexer": "ipython3",
   "version": "3.10.2"
  },
  "orig_nbformat": 4
 },
 "nbformat": 4,
 "nbformat_minor": 2
}
