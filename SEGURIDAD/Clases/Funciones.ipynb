{
 "cells": [
  {
   "cell_type": "markdown",
   "metadata": {},
   "source": [
    "Función: Una función te permite definir un bloque de código reutilizable que se puede ejecutar muchas veces dentro de tu programa.\n",
    "\n",
    "Sintaxis:\n",
    "\n",
    "1.- La palabra reservada en python es def\n",
    "2.- Un nombre de función\n",
    "3.- Paréntesis ’()’, y dentro de los paréntesis los parámetros de     entrada, aunque los parámetros de entrada sean opcionales.\n",
    "4.- Dos puntos ’:’\n",
    "5.- Algún bloque de código para ejecutar\n",
    "6.- Una sentencia de retorno (opcional)\n",
    "\n"
   ]
  },
  {
   "cell_type": "code",
   "execution_count": 38,
   "metadata": {},
   "outputs": [
    {
     "name": "stdout",
     "output_type": "stream",
     "text": [
      "Estudiantes\n"
     ]
    }
   ],
   "source": [
    "#Ejemplo\n",
    "def estudiante():\n",
    "    print(\"Estudiantes\")\n",
    "estudiante()\n"
   ]
  },
  {
   "cell_type": "code",
   "execution_count": 54,
   "metadata": {},
   "outputs": [],
   "source": [
    "def tablas(n):\n",
    "    for i in range(1, n+1):\n",
    "        for j in range(1, 10+1):\n",
    "            r=i*j\n",
    "            if(j%10== 0):\n",
    "                print(f\"\\t{i}*{j}={r}\")\n",
    "                print(\"-----------------------------------------\")\n",
    "            else:\n",
    "                print(f\"\\t{i}*{j}={r}\")\n",
    "\n",
    "\n"
   ]
  },
  {
   "cell_type": "code",
   "execution_count": null,
   "metadata": {},
   "outputs": [],
   "source": [
    "\n",
    "n=int(input(\"Ingresa un numero\"))\n",
    "tablas(n)"
   ]
  },
  {
   "cell_type": "markdown",
   "metadata": {},
   "source": [
    "Es importante poner los argumentos cuando se piden, es decir, se deben de enviar argumentos en cuando se llama a la función. La siguiente función es un ejemplo de como especificar cuando no se le envían argumentos a una función"
   ]
  },
  {
   "cell_type": "code",
   "execution_count": 65,
   "metadata": {},
   "outputs": [],
   "source": [
    "def nulos(x=None,i=None):\n",
    "    if x==None or i==None:\n",
    "        print(\"Debes ingresar los argumentos, pendejo\")\n",
    "        return\n",
    "    return x/i"
   ]
  },
  {
   "cell_type": "code",
   "execution_count": 66,
   "metadata": {},
   "outputs": [
    {
     "data": {
      "text/plain": [
       "2.0"
      ]
     },
     "execution_count": 66,
     "metadata": {},
     "output_type": "execute_result"
    }
   ],
   "source": [
    "nulos(10,5)"
   ]
  }
 ],
 "metadata": {
  "interpreter": {
   "hash": "624ce40d1217414ec7beaf999b88e178ba5b2f561e2bb7322b3b5b67498d41cc"
  },
  "kernelspec": {
   "display_name": "Python 3.10.2 64-bit",
   "language": "python",
   "name": "python3"
  },
  "language_info": {
   "codemirror_mode": {
    "name": "ipython",
    "version": 3
   },
   "file_extension": ".py",
   "mimetype": "text/x-python",
   "name": "python",
   "nbconvert_exporter": "python",
   "pygments_lexer": "ipython3",
   "version": "3.10.2"
  },
  "orig_nbformat": 4
 },
 "nbformat": 4,
 "nbformat_minor": 2
}
