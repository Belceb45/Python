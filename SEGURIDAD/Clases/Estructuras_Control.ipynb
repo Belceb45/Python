{
 "cells": [
  {
   "cell_type": "code",
   "execution_count": 4,
   "metadata": {},
   "outputs": [
    {
     "name": "stdout",
     "output_type": "stream",
     "text": [
      "D\n",
      "i\n",
      "e\n",
      "g\n",
      "o\n"
     ]
    }
   ],
   "source": [
    "string=\"Diego\"\n",
    "for i in string:\n",
    "    print(i)"
   ]
  },
  {
   "cell_type": "code",
   "execution_count": 3,
   "metadata": {},
   "outputs": [
    {
     "name": "stdout",
     "output_type": "stream",
     "text": [
      "valor 10\n",
      "valor 15\n",
      "valor 20\n",
      "valor 25\n",
      "valor 30\n",
      "valor 35\n",
      "valor 40\n",
      "valor 45\n",
      "valor 50\n",
      "valor 55\n",
      "valor 60\n",
      "valor 65\n",
      "valor 70\n",
      "valor 75\n",
      "valor 80\n",
      "valor 85\n",
      "valor 90\n",
      "valor 95\n",
      "valor 100\n",
      "valor 105\n"
     ]
    }
   ],
   "source": [
    "a=int(input(\"Ingresa un numero\"))\n",
    "while(a<=100 and a>0):\n",
    "    a+=5\n",
    "    print(f\"valor {a}\")\n",
    "if(a==100):\n",
    "    print(\"Bien, a = 100\")"
   ]
  }
 ],
 "metadata": {
  "interpreter": {
   "hash": "5a949091ca86e95f1c45e0daef77daaed2310b65151c6071f238362cd84729ee"
  },
  "kernelspec": {
   "display_name": "Python 3.10.2 64-bit",
   "language": "python",
   "name": "python3"
  },
  "language_info": {
   "codemirror_mode": {
    "name": "ipython",
    "version": 3
   },
   "file_extension": ".py",
   "mimetype": "text/x-python",
   "name": "python",
   "nbconvert_exporter": "python",
   "pygments_lexer": "ipython3",
   "version": "3.10.2"
  },
  "orig_nbformat": 4
 },
 "nbformat": 4,
 "nbformat_minor": 2
}
