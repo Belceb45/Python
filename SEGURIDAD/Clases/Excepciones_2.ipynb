{
 "cells": [
  {
   "cell_type": "code",
   "execution_count": 16,
   "metadata": {},
   "outputs": [
    {
     "name": "stdout",
     "output_type": "stream",
     "text": [
      "La cadena debe ser un número\n"
     ]
    }
   ],
   "source": [
    "try:\n",
    "    a=int(input(\"Numero: \"))\n",
    "    10/a\n",
    "except TypeError:\n",
    "    print(\"Esto es una cadena\")\n",
    "except ValueError:\n",
    "    print(\"La cadena debe ser un número\")\n",
    "except ZeroDivisionError:\n",
    "    print(\"No se admite la división entre cero\")\n",
    "except Exception as x:\n",
    "    print(type(x).__name__)"
   ]
  },
  {
   "cell_type": "code",
   "execution_count": 17,
   "metadata": {},
   "outputs": [],
   "source": [
    "def error(estudiantes=None):\n",
    "    if estudiantes is None:\n",
    "        print(\"Debes escribir algo\")\n"
   ]
  },
  {
   "cell_type": "code",
   "execution_count": 21,
   "metadata": {},
   "outputs": [
    {
     "name": "stdout",
     "output_type": "stream",
     "text": [
      "Debes escribir algo\n"
     ]
    }
   ],
   "source": [
    "error()"
   ]
  },
  {
   "cell_type": "code",
   "execution_count": 28,
   "metadata": {},
   "outputs": [],
   "source": [
    "def error_2(estudiantes=None):\n",
    "    try: \n",
    "        if estudiantes is None:\n",
    "            raise ValueError(\"Debes escribir algo, de lo contratrio no la llames\")\n",
    "    except ValueError:\n",
    "        print(\"El valor nulo no se permite\")"
   ]
  },
  {
   "cell_type": "code",
   "execution_count": 32,
   "metadata": {},
   "outputs": [
    {
     "name": "stdout",
     "output_type": "stream",
     "text": [
      "El valor nulo no se permite\n"
     ]
    }
   ],
   "source": [
    "error_2()"
   ]
  }
 ],
 "metadata": {
  "interpreter": {
   "hash": "624ce40d1217414ec7beaf999b88e178ba5b2f561e2bb7322b3b5b67498d41cc"
  },
  "kernelspec": {
   "display_name": "Python 3.10.2 64-bit",
   "language": "python",
   "name": "python3"
  },
  "language_info": {
   "codemirror_mode": {
    "name": "ipython",
    "version": 3
   },
   "file_extension": ".py",
   "mimetype": "text/x-python",
   "name": "python",
   "nbconvert_exporter": "python",
   "pygments_lexer": "ipython3",
   "version": "3.10.2"
  },
  "orig_nbformat": 4
 },
 "nbformat": 4,
 "nbformat_minor": 2
}
