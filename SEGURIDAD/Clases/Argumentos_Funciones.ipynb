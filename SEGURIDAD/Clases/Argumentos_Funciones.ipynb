{
 "cells": [
  {
   "cell_type": "code",
   "execution_count": 1,
   "metadata": {},
   "outputs": [],
   "source": [
    "def funcion(*tupla):\n",
    "    for i in tupla:\n",
    "        print(i)\n",
    " \n"
   ]
  },
  {
   "cell_type": "code",
   "execution_count": 2,
   "metadata": {},
   "outputs": [
    {
     "name": "stdout",
     "output_type": "stream",
     "text": [
      "Diego\n",
      "Milo\n",
      "12\n",
      "-234\n",
      "[12, 34, 42, 132]\n"
     ]
    }
   ],
   "source": [
    "funcion(\"Diego\",\"Milo\",12,-234,[12,34,42,132])"
   ]
  },
  {
   "cell_type": "code",
   "execution_count": 11,
   "metadata": {},
   "outputs": [],
   "source": [
    "def diccionario(**lo):\n",
    "    b=0\n",
    "    \n",
    "    for x in lo:\n",
    "        print(x,\"=\",lo[x])"
   ]
  },
  {
   "cell_type": "code",
   "execution_count": 12,
   "metadata": {},
   "outputs": [
    {
     "name": "stdout",
     "output_type": "stream",
     "text": [
      "diego = RUBIO\n",
      "Milo = 21\n",
      "Perro = 43.12\n"
     ]
    }
   ],
   "source": [
    "diccionario(diego=\"RUBIO\",Milo=21,Perro=43.12)"
   ]
  }
 ],
 "metadata": {
  "interpreter": {
   "hash": "624ce40d1217414ec7beaf999b88e178ba5b2f561e2bb7322b3b5b67498d41cc"
  },
  "kernelspec": {
   "display_name": "Python 3.10.2 64-bit",
   "language": "python",
   "name": "python3"
  },
  "language_info": {
   "codemirror_mode": {
    "name": "ipython",
    "version": 3
   },
   "file_extension": ".py",
   "mimetype": "text/x-python",
   "name": "python",
   "nbconvert_exporter": "python",
   "pygments_lexer": "ipython3",
   "version": "3.10.2"
  },
  "orig_nbformat": 4
 },
 "nbformat": 4,
 "nbformat_minor": 2
}
