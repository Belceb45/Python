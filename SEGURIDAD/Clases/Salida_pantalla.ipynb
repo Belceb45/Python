{
 "cells": [
  {
   "cell_type": "markdown",
   "metadata": {},
   "source": [
    "Concatenar strings"
   ]
  },
  {
   "cell_type": "code",
   "execution_count": 9,
   "metadata": {},
   "outputs": [],
   "source": [
    "variable_1=\"Diego Rubio Haro\"\n",
    "variable_2=\"Milo\"\n"
   ]
  },
  {
   "cell_type": "code",
   "execution_count": 10,
   "metadata": {},
   "outputs": [
    {
     "name": "stdout",
     "output_type": "stream",
     "text": [
      "El estudiante Diego Rubio Haro y su mascota Milo son geniales\n",
      "El joven Diego Rubio Haro y su mascota Milo nacieron el mismo dia\n"
     ]
    }
   ],
   "source": [
    "print(\"El estudiante {} y su mascota {} son geniales\".format(variable_1,variable_2))\n",
    "print(f\"El joven {variable_1} y su mascota {variable_2} nacieron el mismo dia\")"
   ]
  }
 ],
 "metadata": {
  "interpreter": {
   "hash": "5a949091ca86e95f1c45e0daef77daaed2310b65151c6071f238362cd84729ee"
  },
  "kernelspec": {
   "display_name": "Python 3.10.2 64-bit",
   "language": "python",
   "name": "python3"
  },
  "language_info": {
   "codemirror_mode": {
    "name": "ipython",
    "version": 3
   },
   "file_extension": ".py",
   "mimetype": "text/x-python",
   "name": "python",
   "nbconvert_exporter": "python",
   "pygments_lexer": "ipython3",
   "version": "3.10.2"
  },
  "orig_nbformat": 4
 },
 "nbformat": 4,
 "nbformat_minor": 2
}
