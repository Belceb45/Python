{
 "cells": [
  {
   "cell_type": "code",
   "execution_count": 44,
   "metadata": {},
   "outputs": [
    {
     "data": {
      "text/plain": [
       "0"
      ]
     },
     "execution_count": 44,
     "metadata": {},
     "output_type": "execute_result"
    }
   ],
   "source": [
    "#Crear una lista sin elementos aún\n",
    "n=int(input(\"Ingresa el tamaño de tu lista\"))\n",
    "lista=[]\n",
    "len(lista)\n"
   ]
  },
  {
   "cell_type": "code",
   "execution_count": 45,
   "metadata": {},
   "outputs": [],
   "source": [
    "for i in range(n):\n",
    "    nombre=input(\"Ingresa un nombre\")\n",
    "    # append para colocar \n",
    "    # pop para quitar en base a su posicion\n",
    "    # remove para quitar en base al valor\n",
    "    lista.append(nombre)"
   ]
  },
  {
   "cell_type": "code",
   "execution_count": 46,
   "metadata": {},
   "outputs": [
    {
     "name": "stdout",
     "output_type": "stream",
     "text": [
      "El tamaño de la lista es de 4\n",
      "Los nombres son: simon\n",
      "Los nombres son: zimba\n",
      "Los nombres son: milo\n",
      "Los nombres son: akira\n",
      "['milo', 'akira']\n"
     ]
    }
   ],
   "source": [
    "#Recorrer la lista\n",
    "print(f\"El tamaño de la lista es de {n}\")\n",
    "for i in range(len(lista)):\n",
    "    print(f\"Los nombres son: {lista[i]}\")\n",
    "\n",
    "lista.remove(\"zimba\")\n",
    "lista.pop(0)\n",
    "print(lista)"
   ]
  }
 ],
 "metadata": {
  "interpreter": {
   "hash": "5a949091ca86e95f1c45e0daef77daaed2310b65151c6071f238362cd84729ee"
  },
  "kernelspec": {
   "display_name": "Python 3.10.2 64-bit",
   "language": "python",
   "name": "python3"
  },
  "language_info": {
   "codemirror_mode": {
    "name": "ipython",
    "version": 3
   },
   "file_extension": ".py",
   "mimetype": "text/x-python",
   "name": "python",
   "nbconvert_exporter": "python",
   "pygments_lexer": "ipython3",
   "version": "3.10.2"
  },
  "orig_nbformat": 4
 },
 "nbformat": 4,
 "nbformat_minor": 2
}
