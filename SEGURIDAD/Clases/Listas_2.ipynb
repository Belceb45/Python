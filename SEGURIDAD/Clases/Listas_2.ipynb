{
 "cells": [
  {
   "cell_type": "code",
   "execution_count": 11,
   "metadata": {},
   "outputs": [
    {
     "name": "stdout",
     "output_type": "stream",
     "text": [
      "[[1, 2, 3], [4, 5, 6], [7, 8, 9], [10, 11, 12]]\n",
      "El valor de primero[2] es: 3\n",
      "El valor de cuarto[1] es: 11\n"
     ]
    }
   ],
   "source": [
    "primero=[1,2,3]\n",
    "segundo=[4,5,6]\n",
    "tercero=[7,8,9]\n",
    "cuarto=[10,11,12]\n",
    "anidado=[primero,segundo,tercero,cuarto]\n",
    "print(anidado)\n",
    "#imprimir la posicion 2 de la lista primero que está contenida\n",
    "#en la lista anidada [][]\n",
    "print(f\"El valor de primero[2] es: {anidado[0][2]}\\nEl valor de cuarto[1] es: {anidado[3][1]}\")"
   ]
  }
 ],
 "metadata": {
  "interpreter": {
   "hash": "5a949091ca86e95f1c45e0daef77daaed2310b65151c6071f238362cd84729ee"
  },
  "kernelspec": {
   "display_name": "Python 3.10.2 64-bit",
   "language": "python",
   "name": "python3"
  },
  "language_info": {
   "codemirror_mode": {
    "name": "ipython",
    "version": 3
   },
   "file_extension": ".py",
   "mimetype": "text/x-python",
   "name": "python",
   "nbconvert_exporter": "python",
   "pygments_lexer": "ipython3",
   "version": "3.10.2"
  },
  "orig_nbformat": 4
 },
 "nbformat": 4,
 "nbformat_minor": 2
}
