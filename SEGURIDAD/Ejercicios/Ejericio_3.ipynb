{
 "cells": [
  {
   "cell_type": "code",
   "execution_count": 1,
   "metadata": {},
   "outputs": [],
   "source": [
    "from math import sqrt"
   ]
  },
  {
   "cell_type": "markdown",
   "metadata": {},
   "source": [
    "Ejercicio 1\n",
    "\n",
    "Realizar un programa que haga el proceso de formula general para la resolución de ecuaciones, sabiendo que la formula general es la que está en la imagen, el usuario debe ingresar los valores de “a”, “b” y “c”, y el programa debe hacer el proceso para que al final muestre el mensaje: “La solución es: <solucion>”"
   ]
  },
  {
   "cell_type": "code",
   "execution_count": 2,
   "metadata": {},
   "outputs": [
    {
     "name": "stdout",
     "output_type": "stream",
     "text": [
      "Este es un programa que calcula a x en la ecuación:\n",
      "Ax^2+By+C=0\n",
      "La raíz es negativa\n",
      "ERROR\n"
     ]
    }
   ],
   "source": [
    "print(\"Este es un programa que calcula a x en la ecuación:\\nAx^2+By+C=0\")\n",
    "a=int(input(\"Ingresa el valor de A\"))\n",
    "b=int(input(\"Ingresa el valor de B\"))\n",
    "c=int(input(\"Ingresa el valor de C\"))\n",
    "condicion_b=b*b\n",
    "condicion_determiante=4*a*b\n",
    "raiz=condicion_b-condicion_determiante\n",
    "if raiz>0:\n",
    "    result=(-b-sqrt(raiz))/2*a\n",
    "    print(result)\n",
    "else:\n",
    "    print(\"La raíz es negativa\\nERROR\")\n",
    "    \n",
    "\n"
   ]
  },
  {
   "cell_type": "code",
   "execution_count": null,
   "metadata": {},
   "outputs": [],
   "source": []
  }
 ],
 "metadata": {
  "interpreter": {
   "hash": "624ce40d1217414ec7beaf999b88e178ba5b2f561e2bb7322b3b5b67498d41cc"
  },
  "kernelspec": {
   "display_name": "Python 3.10.2 64-bit",
   "language": "python",
   "name": "python3"
  },
  "language_info": {
   "codemirror_mode": {
    "name": "ipython",
    "version": 3
   },
   "file_extension": ".py",
   "mimetype": "text/x-python",
   "name": "python",
   "nbconvert_exporter": "python",
   "pygments_lexer": "ipython3",
   "version": "3.10.2"
  },
  "orig_nbformat": 4
 },
 "nbformat": 4,
 "nbformat_minor": 2
}
