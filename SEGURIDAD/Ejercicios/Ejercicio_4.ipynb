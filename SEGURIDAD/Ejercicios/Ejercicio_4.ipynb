{
 "cells": [
  {
   "cell_type": "markdown",
   "metadata": {},
   "source": [
    "Ejercicio 1\n",
    "\n",
    "Crear un programa que pida al usuario una letra, y si es vocal, muestre el mensaje \"Es vocal\". Sino, decirle al usuario que no es vocal"
   ]
  },
  {
   "cell_type": "code",
   "execution_count": 9,
   "metadata": {},
   "outputs": [],
   "source": [
    "vocal=input(\"Ingresa una letra\")\n",
    "\n",
    "if vocal==\"a\":\n",
    "    print(\"Es una vocal\")\n",
    "if vocal==\"e\":\n",
    "    print(\"Es una vocal\")\n",
    "if vocal==\"i\":\n",
    "    print(\"Es una vocal\")\n",
    "if vocal==\"o\":\n",
    "    print(\"Es una vocal\")\n",
    "if vocal==\"u\":\n",
    "    print(\"Es una vocal\")\n",
    "# else:\n",
    "#     print(\"Es una consonante\")"
   ]
  }
 ],
 "metadata": {
  "interpreter": {
   "hash": "624ce40d1217414ec7beaf999b88e178ba5b2f561e2bb7322b3b5b67498d41cc"
  },
  "kernelspec": {
   "display_name": "Python 3.10.2 64-bit",
   "language": "python",
   "name": "python3"
  },
  "language_info": {
   "codemirror_mode": {
    "name": "ipython",
    "version": 3
   },
   "file_extension": ".py",
   "mimetype": "text/x-python",
   "name": "python",
   "nbconvert_exporter": "python",
   "pygments_lexer": "ipython3",
   "version": "3.10.2"
  },
  "orig_nbformat": 4
 },
 "nbformat": 4,
 "nbformat_minor": 2
}
