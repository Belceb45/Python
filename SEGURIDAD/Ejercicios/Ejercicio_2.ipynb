{
 "cells": [
  {
   "cell_type": "code",
   "execution_count": 10,
   "metadata": {},
   "outputs": [],
   "source": [
    "cadena=\"Separado\"\n"
   ]
  },
  {
   "cell_type": "code",
   "execution_count": 13,
   "metadata": {},
   "outputs": [
    {
     "name": "stdout",
     "output_type": "stream",
     "text": [
      ".S.e.p.a.r.a.d.o.\n"
     ]
    }
   ],
   "source": [
    "#Cuando no pones nada entre las comillas se interpreta como el \n",
    "#espacio que hay entre letra y letra\n",
    "print(cadena.replace(\"\", \".\"))"
   ]
  }
 ],
 "metadata": {
  "interpreter": {
   "hash": "624ce40d1217414ec7beaf999b88e178ba5b2f561e2bb7322b3b5b67498d41cc"
  },
  "kernelspec": {
   "display_name": "Python 3.10.2 64-bit",
   "language": "python",
   "name": "python3"
  },
  "language_info": {
   "codemirror_mode": {
    "name": "ipython",
    "version": 3
   },
   "file_extension": ".py",
   "mimetype": "text/x-python",
   "name": "python",
   "nbconvert_exporter": "python",
   "pygments_lexer": "ipython3",
   "version": "3.10.2"
  },
  "orig_nbformat": 4
 },
 "nbformat": 4,
 "nbformat_minor": 2
}
